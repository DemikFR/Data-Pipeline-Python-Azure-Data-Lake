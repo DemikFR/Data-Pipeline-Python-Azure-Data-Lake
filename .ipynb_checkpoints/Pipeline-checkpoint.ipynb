{
 "cells": [
  {
   "cell_type": "markdown",
   "metadata": {
    "id": "sVCQOlMlwjfB"
   },
   "source": [
    "# Pipeline de Dados - Azure Data Lake"
   ]
  },
  {
   "cell_type": "markdown",
   "metadata": {
    "id": "j_pk6wT2wvGO"
   },
   "source": [
    "### Extração de Dados através de web scraping da página da Conab"
   ]
  },
  {
   "cell_type": "markdown",
   "metadata": {
    "id": "1Bgag_Mow4_S"
   },
   "source": [
    "### https://www.conab.gov.br/info-agro/safras/serie-historica-das-safras#cana-de-a%C3%A7%C3%BAcar-2"
   ]
  },
  {
   "cell_type": "code",
   "execution_count": null,
   "metadata": {
    "id": "2kOEoGEBxOkR"
   },
   "outputs": [],
   "source": [
    "# pip install wget"
   ]
  },
  {
   "cell_type": "code",
   "execution_count": null,
   "metadata": {
    "id": "cllBq5pNVczX"
   },
   "outputs": [],
   "source": [
    "# pip install azure-mgmt-resource"
   ]
  },
  {
   "cell_type": "code",
   "execution_count": null,
   "metadata": {
    "id": "jdZzkgqWCbl2"
   },
   "outputs": [],
   "source": [
    "# pip install azure-mgmt-datalake-store"
   ]
  },
  {
   "cell_type": "code",
   "execution_count": null,
   "metadata": {
    "id": "I4n8iorLCbl3"
   },
   "outputs": [],
   "source": [
    "# pip install azure-datalake-store"
   ]
  },
  {
   "cell_type": "code",
   "execution_count": null,
   "metadata": {
    "id": "IYqSeT3U1Lgh"
   },
   "outputs": [],
   "source": [
    "import requests\n",
    "import re\n",
    "from bs4 import BeautifulSoup as bs\n",
    "import wget\n",
    "\n",
    "# Bibliotecas para usar o Azure\n",
    "\n",
    "## Use this for Azure AD authentication\n",
    "from msrestazure.azure_active_directory import AADTokenCredentials\n",
    "\n",
    "## Required for Azure Data Lake Storage Gen1 account management\n",
    "from azure.mgmt.datalake.store import DataLakeStoreAccountManagementClient\n",
    "from azure.mgmt.datalake.store.models import DataLakeStoreAccount\n",
    "\n",
    "## Required for Azure Data Lake Storage Gen1 filesystem management\n",
    "from azure.datalake.store import core, lib, multithread\n",
    "\n",
    "# Common Azure imports\n",
    "import adal\n",
    "from azure.mgmt.resource.resources import ResourceManagementClient\n",
    "from azure.mgmt.resource.resources.models import ResourceGroup\n",
    "\n",
    " ## Use these as needed for your application\n",
    "import logging, pprint, uuid, time"
   ]
  },
  {
   "cell_type": "markdown",
   "metadata": {
    "id": "c1mF9XmYSUv5"
   },
   "source": [
    "### Acces the necessary web pages"
   ]
  },
  {
   "cell_type": "code",
   "execution_count": null,
   "metadata": {
    "id": "TKp68DW00JtB"
   },
   "outputs": [],
   "source": [
    "def get_soup(url, search):\n",
    "    response = requests.get(url)\n",
    "    \n",
    "    # Verificar se a conexão foi bem sucedida\n",
    "    if response.status_code == 200:\n",
    "        soup = bs(response.content, 'html.parser')\n",
    "\n",
    "        # Retornar as páginas onde terão as de download\n",
    "        return soup.find_all('a', href=True, attrs={'title': re.compile(search)}) \n",
    "    else:\n",
    "        return f'Página{link[\"title\"]} está inacessível. Código: {response.status_code}'"
   ]
  },
  {
   "cell_type": "markdown",
   "metadata": {
    "id": "hiBkv_hhCbl5"
   },
   "source": [
    "### Access the Azure Data Lake Gen 1"
   ]
  },
  {
   "cell_type": "code",
   "execution_count": null,
   "metadata": {
    "colab": {
     "base_uri": "https://localhost:8080/"
    },
    "id": "BWVagU2XCeRT",
    "outputId": "9e70aca1-2a57-41ef-8df6-7585e62791cf"
   },
   "outputs": [
    {
     "name": "stdout",
     "output_type": "stream",
     "text": [
      "To sign in, use a web browser to open the page https://microsoft.com/devicelogin and enter the code R4VEC6WY3 to authenticate.\n"
     ]
    }
   ],
   "source": [
    "# adlCreds = lib.auth(tenant_id='FILL-IN-HERE', resource = 'https://datalake.azure.net/')\n",
    "adlCreds = lib.auth(tenant_id='YOUR_TENANT_ID', resource = 'https://datalake.azure.net/')"
   ]
  },
  {
   "cell_type": "code",
   "execution_count": null,
   "metadata": {
    "id": "zr1L5lJUCbl8"
   },
   "outputs": [],
   "source": [
    "adlsAccountName = 'NAME_OF_YOUR_DATA_LAKE'\n",
    "adlsFileSystemClient = core.AzureDLFileSystem(adlCreds, store_name=adlsAccountName)"
   ]
  },
  {
   "cell_type": "markdown",
   "metadata": {
    "id": "DISbgq8iKAA1"
   },
   "source": [
    "### Access the data from website"
   ]
  },
  {
   "cell_type": "code",
   "execution_count": null,
   "metadata": {
    "id": "mSuAKFUKC7ym"
   },
   "outputs": [],
   "source": [
    "def ingest(file_system, file_dl_name, link_file):\n",
    "\n",
    "  try:\n",
    "  # Download the Dataset\n",
    "    response = wget.download(link_file)\n",
    "\n",
    "    ## Upload a file\n",
    "\n",
    "    multithread.ADLUploader(file_system, lpath=f'/content/{file_dl_name}', rpath=f'/Datasets_Safras/{file_dl_name}'\n",
    "                            , nthreads=64, overwrite=True)\n",
    "    print(f'O upload do arquivo {file_dl_name} foi efetuado com sucesso!')\n",
    "  except exception:\n",
    "    print(f'Erro! O upload do arquivo {file_dl_name} não foi efetuado bem sucedido!')"
   ]
  },
  {
   "cell_type": "markdown",
   "metadata": {
    "id": "QkI-Ulq8LNsZ"
   },
   "source": [
    "### Extrar os dados e enviar para o Azure"
   ]
  },
  {
   "cell_type": "code",
   "execution_count": null,
   "metadata": {
    "colab": {
     "base_uri": "https://localhost:8080/"
    },
    "id": "M5NGypHFwpiI",
    "outputId": "d2093204-38c4-43ef-8da2-2b31e1e0c613"
   },
   "outputs": [
    {
     "name": "stdout",
     "output_type": "stream",
     "text": [
      "O upload do arquivo Site_PREVISAO_DE_SAFRA-POR_PRODUTO-MAI-2023_1.xlsx foi efetuado com sucesso!\n",
      "O upload do arquivo site-7o-Lev-PREVISAO_DE_SAFRA-ABR-2023.xlsx foi efetuado com sucesso!\n",
      "O upload do arquivo site-6o-Lev-PREVISAO_DE_SAFRA-MAR-2023.xlsx foi efetuado com sucesso!\n",
      "O upload do arquivo site-5o-Lev-PREVISAO_DE_SAFRA-FEV-2023.xlsx foi efetuado com sucesso!\n",
      "O upload do arquivo site-4o-Lev-PREVISAO_DE_SAFRA-JAN-2023.xlsx foi efetuado com sucesso!\n",
      "O upload do arquivo site-1o-Lev-PREVISAO_DE_SAFRA-CANA-DE-ACUCAR-ABR-2023.xlsx foi efetuado com sucesso!\n",
      "O upload do arquivo site-4o-Lev-SAFRA-CANA-DE-ACUCAR-ABR-2023Z2.xlsx foi efetuado com sucesso!\n"
     ]
    }
   ],
   "source": [
    "url_base = 'https://www.conab.gov.br'\n",
    "\n",
    "url_acesso = 'https://www.conab.gov.br/info-agro/safras'\n",
    "\n",
    "lista_repo = get_soup(url_acesso, 'Safra')[0:3]\n",
    "\n",
    "for i in lista_repo:\n",
    "    \n",
    "    # Buscar datasets em cada repositório de dados do Conab\n",
    "    link_repo = url_base+i['href']\n",
    "    \n",
    "    for j in get_soup(link_repo, 'xlsx'):\n",
    "        \n",
    "        # Acessar os dados de cada dataset e inserir no Azure Data Lake\n",
    "        link_dataset = url_base+j['href']\n",
    "\n",
    "        ingest(adlsFileSystemClient, j['title'], link_dataset)"
   ]
  }
 ],
 "metadata": {
  "colab": {
   "provenance": []
  },
  "kernelspec": {
   "display_name": "Python 3 (ipykernel)",
   "language": "python",
   "name": "python3"
  },
  "language_info": {
   "codemirror_mode": {
    "name": "ipython",
    "version": 3
   },
   "file_extension": ".py",
   "mimetype": "text/x-python",
   "name": "python",
   "nbconvert_exporter": "python",
   "pygments_lexer": "ipython3",
   "version": "3.9.12"
  }
 },
 "nbformat": 4,
 "nbformat_minor": 1
}
